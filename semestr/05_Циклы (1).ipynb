{
  "cells": [
    {
      "cell_type": "markdown",
      "id": "f1578aea",
      "metadata": {
        "id": "f1578aea"
      },
      "source": [
        "# Циклы for\n",
        "\n",
        "Циклы <code>for</code> позволяют выполнять итерации в Python; с помощью цикла можно пройти по набору элементов, которые находятся в *последовательности*, или в любом итерируемом наборе объектов. Объекты, которые мы изучали и по которым можно пройтись в цикле - это строки, списки, кортежи, и даже встроенные итерации для словарей, такие как ключи (keys) и значения (values).\n",
        "\n",
        "Мы уже видели небольшой пример оператора <code>for</code> в предыдущих лекциях, но теперь давайте его формализуем.\n",
        "\n",
        "Общий формат цикла <code>for</code> в Python выглядит так:\n",
        "\n",
        "    for item in object:\n",
        "        команды для выполнения\n",
        "    "
      ]
    },
    {
      "cell_type": "markdown",
      "id": "4a040473",
      "metadata": {
        "id": "4a040473"
      },
      "source": [
        "Название переменной item для очередного элемента может быть любым, каким Вы хотите. Так что используйте название, которое имеет смысл и которое будет понятно, когда Вы будете позднее читать этот код. Это название переменной можно использовать внутри цикла, например для выполнения проверок <code>if</code>.\n",
        "\n",
        "Давайте рассмотрим несколько примеров для цикла <code>for</code>, используя различные типы объектов. Мы начнем с простых вещей, и постепенно перейдём к более сложным.\n",
        "\n",
        "## Пример 1\n",
        "Итерации по списку"
      ]
    },
    {
      "cell_type": "code",
      "execution_count": null,
      "id": "0a98d1bb",
      "metadata": {
        "collapsed": true,
        "id": "0a98d1bb"
      },
      "outputs": [],
      "source": [
        "# Мы узнаем в следующей лекции, как автоматизировать такой вид списка\n",
        "list1 = [1,2,3,4,5,6,7,8,9,10]"
      ]
    },
    {
      "cell_type": "code",
      "execution_count": null,
      "id": "8287481d",
      "metadata": {
        "id": "8287481d",
        "outputId": "00a474f7-7080-4de5-e638-98214863ef5f"
      },
      "outputs": [
        {
          "name": "stdout",
          "output_type": "stream",
          "text": [
            "1\n",
            "2\n",
            "3\n",
            "4\n",
            "5\n",
            "6\n",
            "7\n",
            "8\n",
            "9\n",
            "10\n"
          ]
        }
      ],
      "source": [
        "for num in list1:\n",
        "    print(num)"
      ]
    },
    {
      "cell_type": "markdown",
      "id": "1f45ccf7",
      "metadata": {
        "id": "1f45ccf7"
      },
      "source": [
        "Отлично! Надеюсь, это выглядит разумно. Теперь добавим оператор <code>if</code>, чтобы проверить чётные числа. Для этого сначала рассмотрим остаток от деления.\n",
        "\n",
        "### Остаток от деления\n",
        "Остаток от деления пишется с помощью символа %. Например:"
      ]
    },
    {
      "cell_type": "code",
      "execution_count": null,
      "id": "c07bc3ec",
      "metadata": {
        "id": "c07bc3ec",
        "outputId": "c0da1dd9-1b2c-4375-8ada-64fc070070a9"
      },
      "outputs": [
        {
          "data": {
            "text/plain": [
              "2"
            ]
          },
          "execution_count": 3,
          "metadata": {},
          "output_type": "execute_result"
        }
      ],
      "source": [
        "17 % 5"
      ]
    },
    {
      "cell_type": "markdown",
      "id": "d308f5ea",
      "metadata": {
        "id": "d308f5ea"
      },
      "source": [
        "Такой результат получился так: 17 разделить на 5 равно 3, и остаток 2. Рассмотрим еще несколько примеров:"
      ]
    },
    {
      "cell_type": "code",
      "execution_count": null,
      "id": "9a96fc0b",
      "metadata": {
        "id": "9a96fc0b",
        "outputId": "ef24250d-6b88-4902-c648-68daf25b6ab7"
      },
      "outputs": [
        {
          "data": {
            "text/plain": [
              "1"
            ]
          },
          "execution_count": 4,
          "metadata": {},
          "output_type": "execute_result"
        }
      ],
      "source": [
        "# 10 разделить на 3 равно 3 и остаток 1\n",
        "10 % 3"
      ]
    },
    {
      "cell_type": "code",
      "execution_count": null,
      "id": "fac02822",
      "metadata": {
        "id": "fac02822",
        "outputId": "920a591a-1a29-4dbb-daec-4e4aa2189279"
      },
      "outputs": [
        {
          "data": {
            "text/plain": [
              "4"
            ]
          },
          "execution_count": 5,
          "metadata": {},
          "output_type": "execute_result"
        }
      ],
      "source": [
        "# 18 разделить на 7 равно 2 и остаток  4\n",
        "18 % 7"
      ]
    },
    {
      "cell_type": "code",
      "execution_count": null,
      "id": "6d551bab",
      "metadata": {
        "id": "6d551bab",
        "outputId": "1036d211-551a-4724-e031-009cfd2b0b22"
      },
      "outputs": [
        {
          "data": {
            "text/plain": [
              "0"
            ]
          },
          "execution_count": 6,
          "metadata": {},
          "output_type": "execute_result"
        }
      ],
      "source": [
        "# 4 разделить на 2 равно 2 без остатка (остаток равен 0)\n",
        "4 % 2"
      ]
    },
    {
      "cell_type": "markdown",
      "id": "9e4ecee9",
      "metadata": {
        "id": "9e4ecee9"
      },
      "source": [
        "Обратите внимание, что если число делится нацело без остатка, то результат функции % равен 0. Мы можем использовать это для проверки чётных чисел: если остаток от деления на 2 равен 0, то значит число чётное!\n",
        "\n",
        "Вернемся к циклам <code>for</code>!\n",
        "\n",
        "## Пример 2\n",
        "Давайте выведем из списка только чётные числа!"
      ]
    },
    {
      "cell_type": "code",
      "execution_count": null,
      "id": "5cbcf85b",
      "metadata": {
        "id": "5cbcf85b",
        "outputId": "66c5163e-1d9f-4071-8248-f3cb79952522"
      },
      "outputs": [
        {
          "name": "stdout",
          "output_type": "stream",
          "text": [
            "2\n",
            "4\n",
            "6\n",
            "8\n",
            "10\n"
          ]
        }
      ],
      "source": [
        "for num in list1:\n",
        "    if num % 2 == 0:\n",
        "        print(num)"
      ]
    },
    {
      "cell_type": "markdown",
      "id": "3d7ff57f",
      "metadata": {
        "id": "3d7ff57f"
      },
      "source": [
        "Мы также можем написать оператор <code>else</code>:"
      ]
    },
    {
      "cell_type": "code",
      "execution_count": null,
      "id": "5164c22e",
      "metadata": {
        "id": "5164c22e",
        "outputId": "0ce13def-56ba-41f6-8458-53fc21c1af87"
      },
      "outputs": [
        {
          "name": "stdout",
          "output_type": "stream",
          "text": [
            "Нечётное число\n",
            "2\n",
            "Нечётное число\n",
            "4\n",
            "Нечётное число\n",
            "6\n",
            "Нечётное число\n",
            "8\n",
            "Нечётное число\n",
            "10\n"
          ]
        }
      ],
      "source": [
        "for num in list1:\n",
        "    if num % 2 == 0:\n",
        "        print(num)\n",
        "    else:\n",
        "        print('Нечётное число')"
      ]
    },
    {
      "cell_type": "markdown",
      "id": "269730ff",
      "metadata": {
        "id": "269730ff"
      },
      "source": [
        "## Пример 3\n",
        "Еще один распространённый приём для циклов <code>for</code> - это нахождения суммы элементов. Например, давайте напишем цикл <code>for</code> для суммирования элементов списка:"
      ]
    },
    {
      "cell_type": "code",
      "execution_count": null,
      "id": "98449be9",
      "metadata": {
        "id": "98449be9",
        "outputId": "c1eccdae-a0e8-4cf1-a34e-7c17e1a8a42c"
      },
      "outputs": [
        {
          "name": "stdout",
          "output_type": "stream",
          "text": [
            "55\n"
          ]
        }
      ],
      "source": [
        "# Начинаем сумму с нуля\n",
        "list_sum = 0\n",
        "\n",
        "for num in list1:\n",
        "    list_sum = list_sum + num\n",
        "\n",
        "print(list_sum)"
      ]
    },
    {
      "cell_type": "markdown",
      "id": "4f3bc53e",
      "metadata": {
        "id": "4f3bc53e"
      },
      "source": [
        "Отлично! Убедитесь, что Вы понимаете, что здесь происходит. Также для этой цели можно использовать оператор <code>+=</code>, чтобы прибавить очередное значение к уже имеющемуся значению. Например:"
      ]
    },
    {
      "cell_type": "code",
      "execution_count": null,
      "id": "58ec3272",
      "metadata": {
        "id": "58ec3272",
        "outputId": "a0191be6-bbcf-40b2-8f7c-e9760e2bff78"
      },
      "outputs": [
        {
          "name": "stdout",
          "output_type": "stream",
          "text": [
            "55\n"
          ]
        }
      ],
      "source": [
        "# Начинаем сумму с нуля\n",
        "list_sum = 0\n",
        "\n",
        "for num in list1:\n",
        "    list_sum += num\n",
        "\n",
        "print(list_sum)"
      ]
    },
    {
      "cell_type": "markdown",
      "id": "08274e49",
      "metadata": {
        "id": "08274e49"
      },
      "source": [
        "## Пример 4\n",
        "Мы использовали циклы <code>for</code> для списков, а как насчет строк? Помните, строки это последовательности, поэтому когда мы выполняем итерации, то получим каждый символ в строке."
      ]
    },
    {
      "cell_type": "code",
      "execution_count": null,
      "id": "2868e446",
      "metadata": {
        "id": "2868e446",
        "outputId": "27b7a2b9-cb4d-40b4-aab8-6ad6190031f5"
      },
      "outputs": [
        {
          "name": "stdout",
          "output_type": "stream",
          "text": [
            "T\n",
            "h\n",
            "i\n",
            "s\n",
            " \n",
            "i\n",
            "s\n",
            " \n",
            "a\n",
            " \n",
            "s\n",
            "t\n",
            "r\n",
            "i\n",
            "n\n",
            "g\n",
            ".\n"
          ]
        }
      ],
      "source": [
        "for letter in 'This is a string.':\n",
        "    print(letter)"
      ]
    },
    {
      "cell_type": "markdown",
      "id": "e258ca5e",
      "metadata": {
        "id": "e258ca5e"
      },
      "source": [
        "## Пример 5\n",
        "Теперь посмотрим, как пишется цикл <code>for</code> для кортежей (tuple):"
      ]
    },
    {
      "cell_type": "code",
      "execution_count": null,
      "id": "791e1fc6",
      "metadata": {
        "id": "791e1fc6",
        "outputId": "2211877f-e6a5-4b4b-e9ce-1a57cb6f79a4"
      },
      "outputs": [
        {
          "name": "stdout",
          "output_type": "stream",
          "text": [
            "1\n",
            "2\n",
            "3\n",
            "4\n",
            "5\n"
          ]
        }
      ],
      "source": [
        "tup = (1,2,3,4,5)\n",
        "\n",
        "for t in tup:\n",
        "    print(t)"
      ]
    },
    {
      "cell_type": "markdown",
      "id": "ebcca8da",
      "metadata": {
        "id": "ebcca8da"
      },
      "source": [
        "## Пример 6\n",
        "Кортежи имеют особое свойство, когда речь заходит о циклах <code>for</code>. Если Вы выполняете итерации по последовательности, которая содержит кортежи, то выбираемый элемент тоже может быть кортежем. Это пример *распаковки кортежа* (*tuple unpacking*). В цикле <code>for</code> мы можем распаковывать кортежи внутри последовательности, и получать доступ к отдельным элементам внутри кортежа!"
      ]
    },
    {
      "cell_type": "code",
      "execution_count": null,
      "id": "38eecd39",
      "metadata": {
        "collapsed": true,
        "id": "38eecd39"
      },
      "outputs": [],
      "source": [
        "list2 = [(2,4),(6,8),(10,12)]"
      ]
    },
    {
      "cell_type": "code",
      "execution_count": null,
      "id": "1bbbdc90",
      "metadata": {
        "id": "1bbbdc90",
        "outputId": "fdd72cbe-c7fd-46a0-fe8e-9bcd97b97a7f"
      },
      "outputs": [
        {
          "name": "stdout",
          "output_type": "stream",
          "text": [
            "(2, 4)\n",
            "(6, 8)\n",
            "(10, 12)\n"
          ]
        }
      ],
      "source": [
        "for tup in list2:\n",
        "    print(tup)"
      ]
    },
    {
      "cell_type": "code",
      "execution_count": null,
      "id": "9915a759",
      "metadata": {
        "id": "9915a759",
        "outputId": "b475d149-e574-45ca-a1f3-c86088e16066"
      },
      "outputs": [
        {
          "name": "stdout",
          "output_type": "stream",
          "text": [
            "2\n",
            "6\n",
            "10\n"
          ]
        }
      ],
      "source": [
        "# А теперь с распаковкой!\n",
        "for (t1,t2) in list2:\n",
        "    print(t1)"
      ]
    },
    {
      "cell_type": "markdown",
      "id": "71b0d1e4",
      "metadata": {
        "id": "71b0d1e4"
      },
      "source": [
        "Круто! Мы можем получить доступ к элементам внутри кортежей с помощью распаковки! Это важно по той причине, что многие объекты возвращают свои результаты в виде кортежей. Давайте посмотрим на итерации по словарю данных, чтобы рассмотреть это подробнее!"
      ]
    },
    {
      "cell_type": "markdown",
      "id": "ed00c220",
      "metadata": {
        "id": "ed00c220"
      },
      "source": [
        "## Example 7"
      ]
    },
    {
      "cell_type": "code",
      "execution_count": null,
      "id": "ab1ad982",
      "metadata": {
        "collapsed": true,
        "id": "ab1ad982"
      },
      "outputs": [],
      "source": [
        "d = {'k1':1,'k2':2,'k3':3}"
      ]
    },
    {
      "cell_type": "code",
      "execution_count": null,
      "id": "6a14f09d",
      "metadata": {
        "id": "6a14f09d",
        "outputId": "e83fa6b2-37df-4602-c039-19eb4542105e"
      },
      "outputs": [
        {
          "name": "stdout",
          "output_type": "stream",
          "text": [
            "k1\n",
            "k2\n",
            "k3\n"
          ]
        }
      ],
      "source": [
        "for item in d:\n",
        "    print(item)"
      ]
    },
    {
      "cell_type": "markdown",
      "id": "1983c489",
      "metadata": {
        "id": "1983c489"
      },
      "source": [
        "Обратите внимание, что мы получили только ключи. Как мы можем получить значения? Или получить и ключи, и значения?\n",
        "\n",
        "Для этого рассмотрим три метода для словарей: **.keys()**, **.values()** and **.items()**\n",
        "\n",
        "В Python каждый из этих методов возвращает объект *dictionary view object*. Он поддерживает такие операции, как проверка содержания элемента и итерации, но его содержание не является независимым от основного словаря – это всего лишь предоставление (view). Давайте посмотрим это в действии:"
      ]
    },
    {
      "cell_type": "code",
      "execution_count": null,
      "id": "f5fdd671",
      "metadata": {
        "id": "f5fdd671",
        "outputId": "332dc616-e6a7-4764-9cfa-cdf1b3975950"
      },
      "outputs": [
        {
          "data": {
            "text/plain": [
              "dict_items([('k1', 1), ('k2', 2), ('k3', 3)])"
            ]
          },
          "execution_count": 18,
          "metadata": {},
          "output_type": "execute_result"
        }
      ],
      "source": [
        "# Создаем объект \"dictionary view object\"\n",
        "d.items()"
      ]
    },
    {
      "cell_type": "markdown",
      "id": "e8fe3b86",
      "metadata": {
        "id": "e8fe3b86"
      },
      "source": [
        "Поскольку метод .items() поддерживает итерации, мы можем выполнить *распаковку словаря*, чтобы разделить ключи и значения, как мы видели в предыдущих примерах."
      ]
    },
    {
      "cell_type": "code",
      "execution_count": null,
      "id": "6f52b84c",
      "metadata": {
        "id": "6f52b84c",
        "outputId": "7cc85de3-9db2-475a-a554-4e86647090a2"
      },
      "outputs": [
        {
          "name": "stdout",
          "output_type": "stream",
          "text": [
            "k1\n",
            "1\n",
            "k2\n",
            "2\n",
            "k3\n",
            "3\n"
          ]
        }
      ],
      "source": [
        "# Распаковка словаря\n",
        "for k,v in d.items():\n",
        "    print(k)\n",
        "    print(v)"
      ]
    },
    {
      "cell_type": "markdown",
      "id": "e74d750b",
      "metadata": {
        "id": "e74d750b"
      },
      "source": [
        "Если Вы хотите получить сам список ключей, значений, или кортежей ключ/значение, то Вы можете сконвертировать представление в список:"
      ]
    },
    {
      "cell_type": "code",
      "execution_count": null,
      "id": "56d061ed",
      "metadata": {
        "id": "56d061ed",
        "outputId": "a81628c5-7d7a-4f80-eeec-dced34a05d12"
      },
      "outputs": [
        {
          "data": {
            "text/plain": [
              "['k1', 'k2', 'k3']"
            ]
          },
          "execution_count": 20,
          "metadata": {},
          "output_type": "execute_result"
        }
      ],
      "source": [
        "list(d.keys())"
      ]
    },
    {
      "cell_type": "markdown",
      "id": "32221c1f",
      "metadata": {
        "id": "32221c1f"
      },
      "source": [
        "Помните, что словари неупорядочены, поэтому ключи и значения возвращаются в любом порядке. Вы можете получить отсортированный список с помощью sorted():"
      ]
    },
    {
      "cell_type": "code",
      "execution_count": null,
      "id": "f2577e04",
      "metadata": {
        "id": "f2577e04",
        "outputId": "b5cc6b6f-b9c2-4018-ecf2-518270bf5d56"
      },
      "outputs": [
        {
          "data": {
            "text/plain": [
              "[1, 2, 3]"
            ]
          },
          "execution_count": 21,
          "metadata": {},
          "output_type": "execute_result"
        }
      ],
      "source": [
        "sorted(d.values())"
      ]
    },
    {
      "cell_type": "markdown",
      "id": "fe5c5684",
      "metadata": {
        "collapsed": true,
        "id": "fe5c5684"
      },
      "source": [
        "# Циклы while\n",
        "\n",
        "Цикл <code>while</code> в Python - это один из общих способов выполнения итераций. Цикл <code>while</code> будет повторять выполнение команды или набора команд, пока указанное условие равно true. Причина, почему это называется циклом, заключается в том, что операции выполняются снова и снова до тех пор, пока условие не перестанет выполняться.\n",
        "\n",
        "Общий синтаксис цикла while выглядит так:\n",
        "\n",
        "    while test:\n",
        "        code statements\n",
        "    else:\n",
        "        final code statements\n",
        "\n",
        "Давайте посмотрим на несколько примеров цикла <code>while</code>."
      ]
    },
    {
      "cell_type": "code",
      "execution_count": null,
      "id": "344baa64",
      "metadata": {
        "id": "344baa64",
        "outputId": "dcce9baa-a131-4438-f6d8-d8ab7c264647"
      },
      "outputs": [
        {
          "name": "stdout",
          "output_type": "stream",
          "text": [
            "x равен:  0\n",
            " x всё еще меньше 10, добавляем 1 к x\n",
            "x равен:  1\n",
            " x всё еще меньше 10, добавляем 1 к x\n",
            "x равен:  2\n",
            " x всё еще меньше 10, добавляем 1 к x\n",
            "x равен:  3\n",
            " x всё еще меньше 10, добавляем 1 к x\n",
            "x равен:  4\n",
            " x всё еще меньше 10, добавляем 1 к x\n",
            "x равен:  5\n",
            " x всё еще меньше 10, добавляем 1 к x\n",
            "x равен:  6\n",
            " x всё еще меньше 10, добавляем 1 к x\n",
            "x равен:  7\n",
            " x всё еще меньше 10, добавляем 1 к x\n",
            "x равен:  8\n",
            " x всё еще меньше 10, добавляем 1 к x\n",
            "x равен:  9\n",
            " x всё еще меньше 10, добавляем 1 к x\n"
          ]
        }
      ],
      "source": [
        "x = 0\n",
        "\n",
        "while x < 10:\n",
        "    print('x равен: ',x)\n",
        "    print(' x всё еще меньше 10, добавляем 1 к x')\n",
        "    x+=1"
      ]
    },
    {
      "cell_type": "markdown",
      "id": "014e7373",
      "metadata": {
        "id": "014e7373"
      },
      "source": [
        "Обратите внимание, сколько раз была вызвана команда print. Цикл <code>while</code> продолжался до тех пор, пока условие цикла не перестало выполняться - это случилось, когда x стало равным 10. Важно отметить, что как только это случилось, цикл остановился. Посмотрим, как мы могли бы добавить оператор <code>else</code>:"
      ]
    },
    {
      "cell_type": "code",
      "execution_count": null,
      "id": "693d3509",
      "metadata": {
        "id": "693d3509",
        "outputId": "2b9b7c79-6432-47ab-a75e-d3b617c1328a"
      },
      "outputs": [
        {
          "name": "stdout",
          "output_type": "stream",
          "text": [
            "x равен:  0\n",
            " x всё еще меньше 10, добавляем 1 к x\n",
            "x равен:  1\n",
            " x всё еще меньше 10, добавляем 1 к x\n",
            "x равен:  2\n",
            " x всё еще меньше 10, добавляем 1 к x\n",
            "x равен:  3\n",
            " x всё еще меньше 10, добавляем 1 к x\n",
            "x равен:  4\n",
            " x всё еще меньше 10, добавляем 1 к x\n",
            "x равен:  5\n",
            " x всё еще меньше 10, добавляем 1 к x\n",
            "x равен:  6\n",
            " x всё еще меньше 10, добавляем 1 к x\n",
            "x равен:  7\n",
            " x всё еще меньше 10, добавляем 1 к x\n",
            "x равен:  8\n",
            " x всё еще меньше 10, добавляем 1 к x\n",
            "x равен:  9\n",
            " x всё еще меньше 10, добавляем 1 к x\n",
            "Всё сделано!\n"
          ]
        }
      ],
      "source": [
        "x = 0\n",
        "\n",
        "while x < 10:\n",
        "    print('x равен: ',x)\n",
        "    print(' x всё еще меньше 10, добавляем 1 к x')\n",
        "    x+=1\n",
        "\n",
        "else:\n",
        "    print('Всё сделано!')"
      ]
    },
    {
      "cell_type": "markdown",
      "id": "a64a616a",
      "metadata": {
        "id": "a64a616a"
      },
      "source": [
        "# break, continue, pass\n",
        "\n",
        "Также мы можем использовать в циклах операторы <code>break</code>, <code>continue</code> и <code>pass</code> для того, чтобы добавить дополнительную логику. Эти три оператора выполняют следующее:\n",
        "\n",
        "    break: выходит из текущего ближайшего цикла, который содержит эту команду.\n",
        "    continue: переходит к началу ближайшего цикла, который содержит эту команду.\n",
        "    pass: ничего не делает.\n",
        "    \n",
        "    \n",
        "Учитывая операторы <code>break</code> и <code>continue</code>, общий формат цикла <code>while</code> выглядит так:\n",
        "\n",
        "    while test:\n",
        "        code statement\n",
        "        if test:\n",
        "            break\n",
        "        if test:\n",
        "            continue\n",
        "    else:\n",
        "\n",
        "Операторы <code>break</code> и <code>continue</code> могут встречаться в любом месте внутри цикла, но обычно их используют в сочетании с оператором <code>if</code>, чтобы выполнить действие при определенном условии.\n",
        "\n",
        "Давайте рассмотрим несколько примеров!"
      ]
    },
    {
      "cell_type": "code",
      "execution_count": null,
      "id": "c7b959c0",
      "metadata": {
        "id": "c7b959c0",
        "outputId": "d442885c-a30a-485f-d266-52bb7f6cddc0"
      },
      "outputs": [
        {
          "name": "stdout",
          "output_type": "stream",
          "text": [
            "x равен:  0\n",
            " x всё еще меньше 10, добавляем 1 к x\n",
            "продолжаем...\n",
            "x равен:  1\n",
            " x всё еще меньше 10, добавляем 1 к x\n",
            "продолжаем...\n",
            "x равен:  2\n",
            " x всё еще меньше 10, добавляем 1 к x\n",
            "x==3\n",
            "x равен:  3\n",
            " x всё еще меньше 10, добавляем 1 к x\n",
            "продолжаем...\n",
            "x равен:  4\n",
            " x всё еще меньше 10, добавляем 1 к x\n",
            "продолжаем...\n",
            "x равен:  5\n",
            " x всё еще меньше 10, добавляем 1 к x\n",
            "продолжаем...\n",
            "x равен:  6\n",
            " x всё еще меньше 10, добавляем 1 к x\n",
            "продолжаем...\n",
            "x равен:  7\n",
            " x всё еще меньше 10, добавляем 1 к x\n",
            "продолжаем...\n",
            "x равен:  8\n",
            " x всё еще меньше 10, добавляем 1 к x\n",
            "продолжаем...\n",
            "x равен:  9\n",
            " x всё еще меньше 10, добавляем 1 к x\n",
            "продолжаем...\n",
            "Завершено!\n"
          ]
        }
      ],
      "source": [
        "x = 0\n",
        "\n",
        "while x < 10:\n",
        "    print('x равен: ',x)\n",
        "    print(' x всё еще меньше 10, добавляем 1 к x')\n",
        "    x+=1\n",
        "    if x==3:\n",
        "        print('x==3')\n",
        "    else:\n",
        "        print('продолжаем...')\n",
        "        continue\n",
        "else:\n",
        "    print(\"Завершено!\")"
      ]
    },
    {
      "cell_type": "markdown",
      "id": "75bdce56",
      "metadata": {
        "id": "75bdce56"
      },
      "source": [
        "Обратите внимание, что во время выполнения цикла мы напечатали \"x==3\" когда x равен 3, и напечатали \"продолжаем\" в других случаях. Давайте в случае x ==3 сделаем break и посмотрим на результат:"
      ]
    },
    {
      "cell_type": "code",
      "execution_count": null,
      "id": "9e59e79b",
      "metadata": {
        "id": "9e59e79b",
        "outputId": "5c92c1f1-49d5-4223-cfd5-d9fb85d9c10c"
      },
      "outputs": [
        {
          "name": "stdout",
          "output_type": "stream",
          "text": [
            "x равен:  0\n",
            " x всё еще меньше 10, добавляем 1 к x\n",
            "продолжаем...\n",
            "x равен:  1\n",
            " x всё еще меньше 10, добавляем 1 к x\n",
            "продолжаем...\n",
            "x равен:  2\n",
            " x всё еще меньше 10, добавляем 1 к x\n",
            "Выходим из цикла (break), потому что x==3\n"
          ]
        }
      ],
      "source": [
        "x = 0\n",
        "\n",
        "while x < 10:\n",
        "    print('x равен: ',x)\n",
        "    print(' x всё еще меньше 10, добавляем 1 к x')\n",
        "    x+=1\n",
        "    if x==3:\n",
        "        print('Выходим из цикла (break), потому что x==3')\n",
        "        break\n",
        "    else:\n",
        "        print('продолжаем...')\n",
        "        continue\n",
        "else:\n",
        "    print(\"Завершено!\")"
      ]
    },
    {
      "cell_type": "markdown",
      "id": "60fd1b58",
      "metadata": {
        "id": "60fd1b58"
      },
      "source": [
        "Обратите внимание, что мы не добрались до второго оператора <code>else</code>, и фраза \"Завершено!\" не была распечатана!\n",
        "\n",
        "После рассмотрения этих простых примеров, Вы можете использовать циклы <code>while</code> в Вашем коде.\n",
        "\n",
        "**Одно предостережение! Оператор <code>while</code> может создать бесконечный цикл. Например:**\n",
        "\n",
        "Замечание: Если Вы всё-таки запустили эту ячейку, то перейдите в меню Kernel->Restart и сделайте перезапуск!"
      ]
    },
    {
      "cell_type": "code",
      "execution_count": null,
      "id": "0646ebce",
      "metadata": {
        "collapsed": true,
        "id": "0646ebce"
      },
      "outputs": [],
      "source": [
        "# НЕ ЗАПУСКАЙТЕ ЭТОТ КОД!!!!\n",
        "while True:\n",
        "    print(\"I'm an infinite loop!\")"
      ]
    },
    {
      "cell_type": "markdown",
      "id": "fc7fbd6d",
      "metadata": {
        "id": "fc7fbd6d"
      },
      "source": [
        "## Задание 1\n",
        "\n",
        "Пусть дан список\n",
        "`lst=[1,2,3,4,5,6,7,8,9,10,11,12,13,14,15,16]`\n",
        "\n",
        "Для этого списка выведите на экран:\n",
        "1. Четные элементы\n",
        "2. Нечетные элементы\n",
        "3. Элементы которые заканчиваются на 3\n",
        "3. Элементы, которые больше заданного числа А"
      ]
    },
    {
      "cell_type": "code",
      "execution_count": 22,
      "id": "f02861b5",
      "metadata": {
        "colab": {
          "base_uri": "https://localhost:8080/"
        },
        "id": "f02861b5",
        "outputId": "9b16df2d-c277-43bd-dfa0-f3deb310c9d6"
      },
      "outputs": [
        {
          "output_type": "stream",
          "name": "stdout",
          "text": [
            "1\n",
            "2\n",
            "3\n",
            "4\n",
            "5\n",
            "6\n",
            "7\n",
            "8\n",
            "9\n",
            "10\n",
            "11\n",
            "12\n",
            "13\n",
            "14\n",
            "15\n",
            "16\n",
            "2\n",
            "4\n",
            "6\n",
            "8\n",
            "10\n",
            "12\n",
            "14\n",
            "16\n",
            "1\n",
            "3\n",
            "5\n",
            "7\n",
            "9\n",
            "11\n",
            "13\n",
            "15\n",
            "[3, 13]\n",
            "A= 2\n",
            "3\n",
            "4\n",
            "5\n",
            "6\n",
            "7\n",
            "8\n",
            "9\n",
            "10\n",
            "11\n",
            "12\n",
            "13\n",
            "14\n",
            "15\n",
            "16\n"
          ]
        }
      ],
      "source": [
        "list1=[1,2,3,4,5,6,7,8,9,10,11,12,13,14,15,16]\n",
        "\n",
        "for num in list1:\n",
        "    print(num)\n",
        "\n",
        "for num in list1:\n",
        "    if num % 2 == 0:\n",
        "        print(num)\n",
        "\n",
        "for num in list1:\n",
        "  if num % 2 != 0:\n",
        "    print(num)\n",
        "\n",
        "list1 = [1,2,3,4,5,6,7,8,9,10,11,12,13,14,15,16]\n",
        "\n",
        "# Фильтруем элементы, заканчивающиеся на 3\n",
        "nums_ending_with_3 = [num for num in list1 if num % 10 == 3]\n",
        "\n",
        "# Выводим результат\n",
        "print(nums_ending_with_3)\n",
        "\n",
        "\n",
        "A=int(input(\"A= \"))\n",
        "for num in list1:\n",
        "  if num > A:\n",
        "    print(num)"
      ]
    },
    {
      "cell_type": "markdown",
      "id": "cc5968b3",
      "metadata": {
        "id": "cc5968b3"
      },
      "source": [
        "## Задание 2\n",
        "\n",
        "Дано целое число A:\n",
        "1. Найдите сумму его цифр\n",
        "2. Найдите все его делители\n",
        "3. Найдите его цифровой корень"
      ]
    },
    {
      "cell_type": "code",
      "execution_count": 27,
      "id": "cd29c2c5",
      "metadata": {
        "colab": {
          "base_uri": "https://localhost:8080/"
        },
        "id": "cd29c2c5",
        "outputId": "e731d06d-265a-48a9-814e-547f527d49ca"
      },
      "outputs": [
        {
          "output_type": "stream",
          "name": "stdout",
          "text": [
            "A= 100\n",
            "Делители числа A: [1, 2, 4, 5, 10, 20, 25, 50, 100]\n",
            "Цифровой корень числа A: 1\n"
          ]
        }
      ],
      "source": [
        "def sum_of_digits(n):\n",
        "    return sum(int(digit) for digit in str(abs(n)))\n",
        "\n",
        "def divisors(n):\n",
        "    divs = []\n",
        "    for i in range(1, abs(n) + 1):\n",
        "        if n % i == 0:\n",
        "            divs.append(i)\n",
        "    return divs\n",
        "\n",
        "def digital_root(n):\n",
        "    n = abs(n)\n",
        "    while n >= 10:\n",
        "        n = sum_of_digits(n)\n",
        "    return n\n",
        "\n",
        "A=int(input('A= '))\n",
        "\n",
        "# Вычисления\n",
        "divs=divisors(A)\n",
        "dig_root=digital_root(A)\n",
        "\n",
        "# Вывод результатов\n",
        "print(\"Делители числа A:\", divs)\n",
        "print(\"Цифровой корень числа A:\", dig_root)"
      ]
    },
    {
      "cell_type": "code",
      "source": [],
      "metadata": {
        "id": "K1ZzYVZmibS0"
      },
      "id": "K1ZzYVZmibS0",
      "execution_count": null,
      "outputs": []
    }
  ],
  "metadata": {
    "kernelspec": {
      "display_name": "Python 3 (ipykernel)",
      "language": "python",
      "name": "python3"
    },
    "language_info": {
      "codemirror_mode": {
        "name": "ipython",
        "version": 3
      },
      "file_extension": ".py",
      "mimetype": "text/x-python",
      "name": "python",
      "nbconvert_exporter": "python",
      "pygments_lexer": "ipython3",
      "version": "3.9.13"
    },
    "colab": {
      "provenance": []
    }
  },
  "nbformat": 4,
  "nbformat_minor": 5
}