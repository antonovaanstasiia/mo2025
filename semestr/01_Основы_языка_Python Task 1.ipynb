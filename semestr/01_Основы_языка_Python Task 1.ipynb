{
  "nbformat": 4,
  "nbformat_minor": 0,
  "metadata": {
    "colab": {
      "provenance": []
    },
    "kernelspec": {
      "name": "python3",
      "display_name": "Python 3"
    },
    "language_info": {
      "name": "python"
    }
  },
  "cells": [
    {
      "cell_type": "markdown",
      "source": [
        "# 01 Основы языка Python\n",
        "\n",
        "Рассмотрим принципы работы с языком, арифметические операции, вывод на экран."
      ],
      "metadata": {
        "id": "UmwDdclJn3cu"
      }
    },
    {
      "cell_type": "markdown",
      "source": [
        "# 1. Очень простые «программы»\n",
        "## 1.1 Запуск Python из командной строки\n",
        "Чтобы выполнить фрагменты кода, мы можем запустить Python из командной строки. В этом блокноте Jupyter мы собираемся смоделировать это. Вы можете вводить команды в поля и выполнять их.\n",
        "В поле введите:\n",
        "\n",
        "`print('Hello, World')`\n",
        "\n",
        "Затем нажмите `<shift> + <return>`, чтобы выполнить команду.\n"
      ],
      "metadata": {
        "id": "wgpOvqwkoL5e"
      }
    },
    {
      "cell_type": "code",
      "source": [
        "print('Hello, World')"
      ],
      "metadata": {
        "id": "z0wbzCSmpYvy",
        "colab": {
          "base_uri": "https://localhost:8080/"
        },
        "outputId": "08d4846e-9e39-4ac5-e30b-d8e051bb452d"
      },
      "execution_count": 2,
      "outputs": [
        {
          "output_type": "stream",
          "name": "stdout",
          "text": [
            "Hello, World\n"
          ]
        }
      ]
    },
    {
      "cell_type": "markdown",
      "source": [
        "Что случилось?\n",
        "\n",
        "Вы только что создали программу, которая печатает слова «Hello, World». Среда Python, в которой вы находитесь, немедленно компилирует все, что вы ввели. Это называется интерпретатор языка."
      ],
      "metadata": {
        "id": "pVvtH_sipaLe"
      }
    },
    {
      "cell_type": "markdown",
      "source": [
        "## 1.2 Математика в Python\n",
        "Наберите в ячейке\n",
        "`1 + 1`\n",
        "и выполните код. (см. п. 1.1.)"
      ],
      "metadata": {
        "id": "n2foxPN2pwr0"
      }
    },
    {
      "cell_type": "code",
      "source": [
        "print(1+1)"
      ],
      "metadata": {
        "id": "qb6kPz8Ap6BI",
        "colab": {
          "base_uri": "https://localhost:8080/"
        },
        "outputId": "81f917e7-5783-474b-f421-97cb737d7928"
      },
      "execution_count": 3,
      "outputs": [
        {
          "output_type": "stream",
          "name": "stdout",
          "text": [
            "2\n"
          ]
        }
      ]
    },
    {
      "cell_type": "markdown",
      "source": [
        "Теперь введите\n",
        "\n",
        "`20 + 80`\n",
        "\n",
        "выполните код."
      ],
      "metadata": {
        "id": "yBbIQd6tp-HV"
      }
    },
    {
      "cell_type": "code",
      "source": [
        "print(20+80)"
      ],
      "metadata": {
        "id": "3zaVgKUVqD_H",
        "colab": {
          "base_uri": "https://localhost:8080/"
        },
        "outputId": "61738da7-ccca-4090-952b-68f7be481132"
      },
      "execution_count": 4,
      "outputs": [
        {
          "output_type": "stream",
          "name": "stdout",
          "text": [
            "100\n"
          ]
        }
      ]
    },
    {
      "cell_type": "markdown",
      "source": [
        "Попробуйте и другие операции\n",
        "\n",
        "`+` сложение\n",
        "\n",
        "`-` вычитание\n",
        "\n",
        "`*` умножение\n",
        "\n",
        "`/` деление\n"
      ],
      "metadata": {
        "id": "LIIUHqIVqKOk"
      }
    },
    {
      "cell_type": "code",
      "source": [
        "print(20-10)"
      ],
      "metadata": {
        "id": "OfJF_qwvqaGk",
        "colab": {
          "base_uri": "https://localhost:8080/"
        },
        "outputId": "c5bb60f8-fb2b-4af7-9da7-9ae04ca44df4"
      },
      "execution_count": 5,
      "outputs": [
        {
          "output_type": "stream",
          "name": "stdout",
          "text": [
            "10\n"
          ]
        }
      ]
    },
    {
      "cell_type": "markdown",
      "source": [
        "Существует операция возведения в степень: $5^2 = $ `5 ** 2`. Попробуйте вычислить в строке ниже."
      ],
      "metadata": {
        "id": "tN5dNWDqqdJk"
      }
    },
    {
      "cell_type": "code",
      "source": [
        "print(5**2)"
      ],
      "metadata": {
        "id": "6ebTTVCGsNBc",
        "colab": {
          "base_uri": "https://localhost:8080/"
        },
        "outputId": "b6588477-a453-45e8-9065-e2c79687604c"
      },
      "execution_count": 6,
      "outputs": [
        {
          "output_type": "stream",
          "name": "stdout",
          "text": [
            "25\n"
          ]
        }
      ]
    },
    {
      "cell_type": "markdown",
      "source": [
        "Операции деления с остатком:\n",
        "\n",
        "// - целая часть от деления\n",
        "\n",
        "% - остаток от деления\n",
        "\n",
        "Посчитайте `7//3`, `11%4`"
      ],
      "metadata": {
        "id": "vGRu1tkXsRjs"
      }
    },
    {
      "cell_type": "code",
      "source": [
        "print(7//3,11%4)"
      ],
      "metadata": {
        "id": "bkanXxZEshbg",
        "colab": {
          "base_uri": "https://localhost:8080/"
        },
        "outputId": "585176ea-8dd1-4676-a84c-2e3e5ff2cfd9"
      },
      "execution_count": 9,
      "outputs": [
        {
          "output_type": "stream",
          "name": "stdout",
          "text": [
            "2 3\n"
          ]
        }
      ]
    },
    {
      "cell_type": "markdown",
      "source": [
        "## 1.3 print - вывод на экран\n",
        "\n",
        "Рассмотрим синтаксис этой функции. Самый простой пример:\n",
        "\n",
        "`print()`\n",
        "\n",
        "Даже если функция не получает никаких аргументов, все равно необходимо вставлять после названия пустые скобки, что значит для интерпретатора выполнить функцию, а не просто ссылаться на нее.\n",
        "\n",
        "В результате этого будет выведен неотображаемый символ пустой строки, она появиться на экране, не нужно путать это с пустой строкой, в которой вообще нет никаких символов.\n",
        "\n",
        "Но чаще всего нужно передать какое-то сообщение пользователю, к примеру:\n",
        "\n",
        "`print('Your message here')`"
      ],
      "metadata": {
        "id": "weOILto5szgr"
      }
    },
    {
      "cell_type": "markdown",
      "source": [
        "Следующий пример – вывод строкового значения из переменной:\n",
        "\n",
        "`message = 'Hello world'`\n",
        "\n",
        "`print(message)`\n",
        "\n"
      ],
      "metadata": {
        "id": "sqZYUcNPttGS"
      }
    },
    {
      "cell_type": "code",
      "source": [
        "print(\"Hello world\")"
      ],
      "metadata": {
        "id": "vbv8gWj4tz0c",
        "colab": {
          "base_uri": "https://localhost:8080/"
        },
        "outputId": "b13a440d-a58a-4ce7-85eb-95a935d3d6bf"
      },
      "execution_count": 10,
      "outputs": [
        {
          "output_type": "stream",
          "name": "stdout",
          "text": [
            "Hello world\n"
          ]
        }
      ]
    },
    {
      "cell_type": "markdown",
      "source": [
        "Выведем разные типы данных:\n",
        "\n",
        "\n",
        "```\n",
        "print('one', 'two', 'three')  # str\n",
        "\n",
        "print(42)  # int\n",
        "\n",
        "print(3.14)  # float\n",
        "\n",
        "print(True)  # bool\n",
        "\n",
        "print([1, 2, 3])  # list\n",
        "\n",
        "print({'red', 'green', 'blue'})  # set\n",
        "\n",
        "print({'name': 'Alice', 'age': 42})  # dict\n",
        "\n",
        "print((1, 2, 3))  # tuple\n",
        "```\n",
        "\n"
      ],
      "metadata": {
        "id": "gT_yQuUst0zq"
      }
    },
    {
      "cell_type": "code",
      "source": [
        "print('one', 'two', 'three')"
      ],
      "metadata": {
        "id": "VB1sC6YRuFJS",
        "colab": {
          "base_uri": "https://localhost:8080/"
        },
        "outputId": "ff31bf3a-0f37-46f8-f3c0-a5e87ba16c46"
      },
      "execution_count": 11,
      "outputs": [
        {
          "output_type": "stream",
          "name": "stdout",
          "text": [
            "one two three\n"
          ]
        }
      ]
    },
    {
      "cell_type": "code",
      "source": [
        "print(42)"
      ],
      "metadata": {
        "colab": {
          "base_uri": "https://localhost:8080/"
        },
        "id": "1h_Gvn91zfKM",
        "outputId": "cdb190aa-0a2d-478b-c4b0-c156a2dc821f"
      },
      "execution_count": 12,
      "outputs": [
        {
          "output_type": "stream",
          "name": "stdout",
          "text": [
            "42\n"
          ]
        }
      ]
    },
    {
      "cell_type": "code",
      "source": [
        "print(3.14)"
      ],
      "metadata": {
        "colab": {
          "base_uri": "https://localhost:8080/"
        },
        "id": "f03jkUoEzlnF",
        "outputId": "ed9f7eb9-3b47-47d4-ddfc-aa735b781350"
      },
      "execution_count": 15,
      "outputs": [
        {
          "output_type": "stream",
          "name": "stdout",
          "text": [
            "3.14\n"
          ]
        }
      ]
    },
    {
      "cell_type": "markdown",
      "source": [
        "Вы также можете распечатать переменные, просто разделив их запятыми\n",
        "```\n",
        "name = \"Аделаида\"\n",
        "print(\"Привет\", name, \"как дела?\")\n",
        "```\n"
      ],
      "metadata": {
        "id": "7YsoJe3suU9r"
      }
    },
    {
      "cell_type": "code",
      "source": [
        "print('Hello, Claire, how are you?')"
      ],
      "metadata": {
        "id": "k76loudFucn6",
        "colab": {
          "base_uri": "https://localhost:8080/"
        },
        "outputId": "1688e3d7-15b6-486c-f390-abcc3792fc2c"
      },
      "execution_count": 17,
      "outputs": [
        {
          "output_type": "stream",
          "name": "stdout",
          "text": [
            "Hello, Claire, how are you?\n"
          ]
        }
      ]
    },
    {
      "cell_type": "markdown",
      "source": [
        "#1.4 Комментарии\n",
        "\n",
        "Комментарий это строка кода, которая не выполняется. Служит для разных пояснений. Выполните следующий код:\n",
        "\n",
        "`# I am a comment. Fear my wrath!`"
      ],
      "metadata": {
        "id": "kjmRYTQNuivr"
      }
    },
    {
      "cell_type": "code",
      "source": [
        "#I am a comment. Fear my wrath"
      ],
      "metadata": {
        "id": "C9EWkEs5u1tv"
      },
      "execution_count": 18,
      "outputs": []
    },
    {
      "cell_type": "markdown",
      "source": [
        "Комментарий — это фрагмент кода, который не запускается. В Python вы добавляете комментарий, помещая перед ним #. # комментирует все, что находится после него в строке, и ничего перед ним. Попробуйте:\n",
        "\n",
        "`print(\"food is very nice\") #eat me`"
      ],
      "metadata": {
        "id": "G_A2uNGVu6Br"
      }
    },
    {
      "cell_type": "code",
      "source": [
        "print('food is very nice') #eat me"
      ],
      "metadata": {
        "id": "vCMZWgm1vCzd",
        "colab": {
          "base_uri": "https://localhost:8080/"
        },
        "outputId": "788edfa1-1f41-4f6b-c22f-2584d34b02eb"
      },
      "execution_count": 19,
      "outputs": [
        {
          "output_type": "stream",
          "name": "stdout",
          "text": [
            "food is very nice\n"
          ]
        }
      ]
    },
    {
      "cell_type": "markdown",
      "source": [
        "# 1.5 Приоритет операций\n",
        "\n",
        "Помните ту штуку, которую учили на уроках математики, под названием \"порядок действий\"? Что ж, это применимо и к Python. Вот оно, если вам нужно напомнить:\n",
        "\n",
        "1. Круглые скобки()\n",
        "2. Возведение в степень **\n",
        "3. Умножение *, деление / и остаток %\n",
        "4. Сложение + и вычитание -\n",
        "\n",
        "Вот несколько примеров, которые вы можете попробовать:\n",
        "```\n",
        "1 + 2 * 3\n",
        "(1 + 2) * 3\n",
        "```"
      ],
      "metadata": {
        "id": "_vftrmAdxaQS"
      }
    },
    {
      "cell_type": "code",
      "source": [
        "print(1+1*3)\n",
        "(1+2)*3"
      ],
      "metadata": {
        "id": "s8ZhSbiKxwDa",
        "colab": {
          "base_uri": "https://localhost:8080/"
        },
        "outputId": "5aa81a38-d823-4b32-894a-46128c080ca0"
      },
      "execution_count": 20,
      "outputs": [
        {
          "output_type": "stream",
          "name": "stdout",
          "text": [
            "4\n"
          ]
        },
        {
          "output_type": "execute_result",
          "data": {
            "text/plain": [
              "9"
            ]
          },
          "metadata": {},
          "execution_count": 20
        }
      ]
    },
    {
      "cell_type": "markdown",
      "source": [
        "# Задание 1\n",
        "\n",
        "Используя оператор print выведите на экран небольшой рассказ о себе. Должно быть использовано не менее 8 операторов print.\n",
        "\n",
        "Пример:\n",
        "\n",
        "```\n",
        "print('Привет всем! Меня зовут Аристотель.')\n",
        "print(\"Я родился в городе Стагире, греческой колонии в Халкидиках, недалеко от Афонской горы, между июлем и октябрём в первый год \",99,\" олимпиады.\" )\n",
        "print('Я люблю всякие науки, например философию.')\n",
        "print(\"Долгими зиминими вечерами я обычно размышляю о физике.\", \"А потом о метафизике.\")\n",
        "```"
      ],
      "metadata": {
        "id": "mC6vwG0Bvckz"
      }
    },
    {
      "cell_type": "code",
      "source": [
        "print('Hello, everyone!')\n",
        "print('My name is Anastasiia.')\n",
        "print('I am 23 years old.')\n",
        "print('I have been living in Moscow for 5 years.')\n",
        "print('I am a journalist and I love my profession so much.')\n",
        "print('Now I work in the VK company as a community manager.')\n",
        "print('The project is called VK Prostor.')\n",
        "print('It is a business media about modern Russian creative industry.')"
      ],
      "metadata": {
        "id": "HcESMxCWw3P9",
        "colab": {
          "base_uri": "https://localhost:8080/"
        },
        "outputId": "342b75ba-e4d3-459a-81de-8798d7569e73"
      },
      "execution_count": 26,
      "outputs": [
        {
          "output_type": "stream",
          "name": "stdout",
          "text": [
            "Hello, everyone!\n",
            "My name is Anastasiia.\n",
            "I am 23 years old.\n",
            "I have been living in Moscow for 5 years.\n",
            "I am a journalist and I love my profession so much.\n",
            "Now I work in the VK company as a community manager.\n",
            "The project is called VK Prostor.\n",
            "It is a business media about modern Russian creative industry.\n"
          ]
        }
      ]
    },
    {
      "cell_type": "markdown",
      "source": [
        "# Задание 2\n",
        "\n",
        "Карандаш стоит 18 рублей 45 копеек за штуку. Покупатель дал кассиру 500 рублей и хочет купить 8 карандашей. Какую сдачу он должен получить? Ответ дайте в рублях.\n"
      ],
      "metadata": {
        "id": "znJt3O_Qw7iU"
      }
    },
    {
      "cell_type": "code",
      "source": [],
      "metadata": {
        "id": "9l0cDUqrz6zt"
      },
      "execution_count": null,
      "outputs": []
    },
    {
      "cell_type": "markdown",
      "source": [
        "# Задание 3\n",
        "\n",
        "Ребенок в день съедает два творожка. Творожок продается в упаковках по пять штук. Какое наименьшее число упаковок надо купить, чтобы ребенку хватило на две недели?"
      ],
      "metadata": {
        "id": "zY4uh9scz7SE"
      }
    },
    {
      "cell_type": "code",
      "source": [],
      "metadata": {
        "id": "AwZoZRdG0Biv"
      },
      "execution_count": null,
      "outputs": []
    },
    {
      "cell_type": "markdown",
      "source": [
        "# Задание 4\n",
        "\n",
        "Килограмм картошки 32 рубля. У Олега есть 1000 р, из этой суммы он 640 р должен положить на телефон, а на остальные деньги он купил картошку. Сколько килограмм купил Олег, если он получил сдачу 8 рублей?"
      ],
      "metadata": {
        "id": "AdFd5gbK0CeE"
      }
    },
    {
      "cell_type": "code",
      "source": [],
      "metadata": {
        "id": "23ot9WQT0Jc_"
      },
      "execution_count": null,
      "outputs": []
    }
  ]
}